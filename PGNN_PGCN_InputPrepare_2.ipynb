{
 "cells": [
  {
   "cell_type": "code",
   "execution_count": 1,
   "id": "63cf08d3",
   "metadata": {},
   "outputs": [],
   "source": [
    "import pandas as pd\n",
    "import h5py\n",
    "import numpy as np\n",
    "import matplotlib.pyplot as plt\n",
    "import os\n",
    "import pickle\n",
    "import pymetis\n",
    "import networkx as nx\n",
    "import time\n",
    "from networkx.algorithms import community\n",
    "from random import shuffle\n",
    "import math\n",
    "import torch\n",
    "import torch.nn as nn\n",
    "import torch_geometric as tg\n",
    "import torch.nn.functional as F\n",
    "from torch_geometric.nn import MessagePassing\n",
    "from torch_geometric.nn import GCNConv\n",
    "from torch_geometric.utils import add_self_loops, degree\n",
    "from torch.nn import init\n",
    "import pdb\n",
    "from sklearn.preprocessing import StandardScaler, MinMaxScaler\n",
    "from torch.utils.data import Dataset, DataLoader, random_split, ConcatDataset\n",
    "from torch_geometric.data import Data\n",
    "import torch.optim as optim\n",
    "import pywt\n",
    "from scipy.stats import norm\n",
    "import scipy.interpolate as interp\n",
    "import collections"
   ]
  },
  {
   "cell_type": "code",
   "execution_count": 2,
   "id": "67a37366",
   "metadata": {},
   "outputs": [],
   "source": [
    "def read_data(file_path):\n",
    "    with h5py.File(file_path, 'r') as f:\n",
    "    # 查看文件中所有的数据集名称\n",
    "        dataset_names = list(f.keys())\n",
    "        print(\"Datasets in the file:\", dataset_names)\n",
    "        data_dict = {}\n",
    "        for name in dataset_names:\n",
    "            if f[name].shape == (): \n",
    "                data = f[name][()] \n",
    "            else:\n",
    "                data = f[name][:]\n",
    "        \n",
    "            data_dict[name] = data\n",
    "            \n",
    "        return data_dict"
   ]
  },
  {
   "cell_type": "code",
   "execution_count": 3,
   "id": "fc665f4b",
   "metadata": {},
   "outputs": [],
   "source": [
    "def save_data(data, file_path):\n",
    "    with open(file_path , 'wb') as f:\n",
    "        pickle.dump(data,f)\n",
    "        f.close()"
   ]
  },
  {
   "cell_type": "code",
   "execution_count": 4,
   "id": "db0a8e16",
   "metadata": {},
   "outputs": [],
   "source": [
    "def save_data_ash5(data, file_path):\n",
    "    with h5py.File(file_path, 'w') as f:\n",
    "        keys =list(data.keys())\n",
    "        for i in range(len(keys)):\n",
    "            f.create_dataset(keys[i], data=data[keys[i]])"
   ]
  },
  {
   "cell_type": "code",
   "execution_count": 5,
   "id": "c1868776",
   "metadata": {},
   "outputs": [],
   "source": [
    "class CustomDataset(Dataset):\n",
    "    def __init__(self, data_1, data_2, targets):\n",
    "        self.data_1 = data_1\n",
    "        self.data_2 = data_2\n",
    "        self.targets = targets\n",
    "\n",
    "    def __len__(self):\n",
    "        return len(self.data_1)\n",
    "\n",
    "    def __getitem__(self, idx):\n",
    "        return self.data_1[idx], self.data_2[idx], self.targets[idx]"
   ]
  },
  {
   "cell_type": "code",
   "execution_count": null,
   "id": "390a7525",
   "metadata": {},
   "outputs": [],
   "source": []
  },
  {
   "cell_type": "code",
   "execution_count": 7,
   "id": "8ae17eee",
   "metadata": {},
   "outputs": [],
   "source": [
    "city_names = [\"Barcelona\",\"Antwerp\"]\n",
    "root_path = \"D:/ThesisData/processed data/\""
   ]
  },
  {
   "cell_type": "code",
   "execution_count": 8,
   "id": "feb66526",
   "metadata": {},
   "outputs": [
    {
     "name": "stdout",
     "output_type": "stream",
     "text": [
      "Datasets in the file: ['period_template', 'target_template', 'trend_template']\n"
     ]
    }
   ],
   "source": [
    "#Ant_dict = read_data(root_path + city_names[1] + \"/input_target/comm_based_input_target.h5\")\n",
    "Bar_dict = read_data(root_path + city_names[0] + \"/input_target/comm_based_input_target.h5\")\n"
   ]
  },
  {
   "cell_type": "code",
   "execution_count": 9,
   "id": "aa480f35",
   "metadata": {},
   "outputs": [],
   "source": [
    "#Shuffled indicies\n",
    "indices = np.random.permutation(Bar_dict['period_template'].shape[0])"
   ]
  },
  {
   "cell_type": "code",
   "execution_count": 11,
   "id": "7e58fa24",
   "metadata": {},
   "outputs": [],
   "source": [
    "def percent_divide(city_name, city_dict, indices, root_path, train_ratio, val_ratio, purpose):\n",
    "    ratio_dict = dict()\n",
    "    \n",
    "    keys = list(city_dict.keys())\n",
    "    train_size = int(train_ratio * city_dict[keys[0]].shape[0])\n",
    "    val_size = int(val_ratio * city_dict[keys[0]].shape[0])\n",
    "    test_size = city_dict[keys[0]].shape[0] - train_size - val_size\n",
    "    \n",
    "    for key in keys:\n",
    "        if purpose == \"train\":\n",
    "            ratio_dict[key] = city_dict[key][indices][:train_size, :, :, :]\n",
    "        elif purpose == \"vali\":\n",
    "            ratio_dict[key] = city_dict[key][indices][train_size: train_size+val_size, :, :, :]\n",
    "        elif purpose == \"test\":\n",
    "            ratio_dict[key] = city_dict[key][indices][train_size+val_size: , :, :, :]\n",
    "            \n",
    "    save_data_ash5(ratio_dict, root_path + city_name + f\"/input_target/{purpose}.h5\")\n",
    "    print(\"done\")"
   ]
  },
  {
   "cell_type": "code",
   "execution_count": 15,
   "id": "6ef69df4",
   "metadata": {},
   "outputs": [
    {
     "name": "stdout",
     "output_type": "stream",
     "text": [
      "done\n"
     ]
    }
   ],
   "source": [
    "city_name = \"Barcelona\"\n",
    "city_dict = Bar_dict\n",
    "train_ratio, val_ratio = 0.6, 0.2\n",
    "purpose = 'train'\n",
    "percent_divide(city_name, city_dict, indices, root_path, train_ratio, val_ratio, purpose)"
   ]
  },
  {
   "cell_type": "code",
   "execution_count": null,
   "id": "15d26b02",
   "metadata": {},
   "outputs": [],
   "source": []
  }
 ],
 "metadata": {
  "kernelspec": {
   "display_name": "Python 3 (ipykernel)",
   "language": "python",
   "name": "python3"
  },
  "language_info": {
   "codemirror_mode": {
    "name": "ipython",
    "version": 3
   },
   "file_extension": ".py",
   "mimetype": "text/x-python",
   "name": "python",
   "nbconvert_exporter": "python",
   "pygments_lexer": "ipython3",
   "version": "3.9.19"
  }
 },
 "nbformat": 4,
 "nbformat_minor": 5
}
