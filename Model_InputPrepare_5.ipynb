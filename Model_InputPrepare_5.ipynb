{
 "cells": [
  {
   "cell_type": "code",
   "execution_count": 1,
   "id": "b0376782",
   "metadata": {},
   "outputs": [],
   "source": [
    "import h5py\n",
    "import numpy as np\n",
    "import matplotlib.pyplot as plt\n",
    "import os\n",
    "import pickle\n",
    "from random import shuffle\n",
    "import math\n",
    "import torch\n",
    "import torch.nn as nn\n",
    "import pdb\n",
    "from torch.utils.data import Dataset, DataLoader, random_split, ConcatDataset\n",
    "from torch_geometric.data import Data\n",
    "from scipy.stats import norm\n",
    "import scipy.interpolate as interp\n",
    "import collections"
   ]
  },
  {
   "cell_type": "code",
   "execution_count": 2,
   "id": "d772cfd6",
   "metadata": {},
   "outputs": [],
   "source": [
    "class CustomData(Data):\n",
    "    def __init__(self, trend, period, target_volume, target_label, edge_pairs, subgraph_node_num, subgraph_nodes, city_node_num, \n",
    "                 dist_max, dist_argmax, min_vals, max_vals):\n",
    "        super(CustomData, self).__init__()\n",
    "        self.trend = trend\n",
    "        self.period = period\n",
    "        self.target_volume = target_volume\n",
    "        self.target_label = target_label\n",
    "        self.edge_pairs = edge_pairs\n",
    "        self.subgraph_node_num = subgraph_node_num\n",
    "        self.subgraph_nodes = subgraph_nodes\n",
    "        self.city_node_num = city_node_num\n",
    "        self.dist_max = dist_max\n",
    "        self.dist_argmax = dist_argmax\n",
    "        self.min_vals = min_vals\n",
    "        self.max_vals = max_vals"
   ]
  },
  {
   "cell_type": "code",
   "execution_count": 11,
   "id": "7009a90a",
   "metadata": {},
   "outputs": [
    {
     "name": "stdout",
     "output_type": "stream",
     "text": [
      "364\n"
     ]
    }
   ],
   "source": [
    "city_names = [\"Antwerp\",\"Bangkok\"]\n",
    "purpose = \"vali\"\n",
    "root_path = \"D:/ThesisData/processed data/\"\n",
    "purpose_data = []\n",
    "for city in city_names:\n",
    "    file_path = root_path + f'{city}/input_target/{purpose}_regional_level.pt'\n",
    "    data = torch.load(file_path)\n",
    "    purpose_data += data\n",
    "    shuffle(purpose_data)\n",
    "    \n",
    "print(len(purpose_data))"
   ]
  },
  {
   "cell_type": "code",
   "execution_count": 12,
   "id": "56a3d7b5",
   "metadata": {},
   "outputs": [],
   "source": [
    "torch.save(purpose_data, root_path + f\"SourceDomain/regional_loaders/{purpose}.pt\")"
   ]
  },
  {
   "cell_type": "code",
   "execution_count": null,
   "id": "9462a5b0",
   "metadata": {},
   "outputs": [],
   "source": []
  }
 ],
 "metadata": {
  "kernelspec": {
   "display_name": "Python 3 (ipykernel)",
   "language": "python",
   "name": "python3"
  },
  "language_info": {
   "codemirror_mode": {
    "name": "ipython",
    "version": 3
   },
   "file_extension": ".py",
   "mimetype": "text/x-python",
   "name": "python",
   "nbconvert_exporter": "python",
   "pygments_lexer": "ipython3",
   "version": "3.9.19"
  }
 },
 "nbformat": 4,
 "nbformat_minor": 5
}
