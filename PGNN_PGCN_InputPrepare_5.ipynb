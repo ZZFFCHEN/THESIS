{
 "cells": [
  {
   "cell_type": "code",
   "execution_count": 1,
   "id": "41841418",
   "metadata": {},
   "outputs": [],
   "source": [
    "import pandas as pd\n",
    "import h5py\n",
    "import numpy as np\n",
    "import matplotlib.pyplot as plt\n",
    "import os\n",
    "import pickle\n",
    "from random import shuffle\n",
    "import math\n",
    "import torch\n",
    "import torch.nn as nn\n",
    "import pdb\n",
    "from torch.utils.data import Dataset, DataLoader, random_split, ConcatDataset\n",
    "from torch_geometric.data import Data\n",
    "from scipy.stats import norm\n",
    "import scipy.interpolate as interp\n",
    "import collections"
   ]
  },
  {
   "cell_type": "code",
   "execution_count": 2,
   "id": "e4670dea",
   "metadata": {},
   "outputs": [],
   "source": [
    "class CustomData(Data):\n",
    "    def __init__(self, trend, period, target_volume, target_label, edge_pairs, subgraph_node_num, subgraph_nodes, city_node_num, dist_max, dist_argmax):\n",
    "        super(CustomData, self).__init__()\n",
    "        self.trend = trend\n",
    "        self.period = period\n",
    "        self.target_volume = target_volume\n",
    "        self.target_label = target_label\n",
    "        self.edge_pairs = edge_pairs\n",
    "        self.subgraph_node_num = subgraph_node_num\n",
    "        self.subgraph_nodes = subgraph_nodes\n",
    "        self.city_node_num = city_node_num\n",
    "        self.dist_max = dist_max\n",
    "        self.dist_argmax = dist_argmax"
   ]
  },
  {
   "cell_type": "code",
   "execution_count": 3,
   "id": "9c428886",
   "metadata": {},
   "outputs": [
    {
     "name": "stdout",
     "output_type": "stream",
     "text": [
      "2592\n"
     ]
    }
   ],
   "source": [
    "city_names = [\"Barcelona\", \"Antwerp\",\"Bangkok\"]\n",
    "purpose = \"train\"\n",
    "root_path = \"D:/ThesisData/processed data/\"\n",
    "purpose_data = []\n",
    "for city in city_names:\n",
    "    file_path = root_path + f'{city}/input_target/{purpose}_regional_level.pt'\n",
    "    data = torch.load(file_path)\n",
    "    purpose_data += data\n",
    "    shuffle(purpose_data)\n",
    "    \n",
    "print(len(purpose_data))"
   ]
  },
  {
   "cell_type": "code",
   "execution_count": 4,
   "id": "c1831c26",
   "metadata": {},
   "outputs": [],
   "source": [
    "torch.save(purpose_data, root_path + f\"SourceDomain/regional_loaders/{purpose}.pt\")"
   ]
  },
  {
   "cell_type": "code",
   "execution_count": 19,
   "id": "ec5a153d",
   "metadata": {},
   "outputs": [
    {
     "name": "stdout",
     "output_type": "stream",
     "text": [
      "0.0\n"
     ]
    }
   ],
   "source": [
    "da = purpose_data[82].target_label\n",
    "print(da)"
   ]
  },
  {
   "cell_type": "code",
   "execution_count": null,
   "id": "63c7b07f",
   "metadata": {},
   "outputs": [],
   "source": []
  },
  {
   "cell_type": "code",
   "execution_count": null,
   "id": "3e5d6315",
   "metadata": {},
   "outputs": [],
   "source": []
  }
 ],
 "metadata": {
  "kernelspec": {
   "display_name": "Python 3 (ipykernel)",
   "language": "python",
   "name": "python3"
  },
  "language_info": {
   "codemirror_mode": {
    "name": "ipython",
    "version": 3
   },
   "file_extension": ".py",
   "mimetype": "text/x-python",
   "name": "python",
   "nbconvert_exporter": "python",
   "pygments_lexer": "ipython3",
   "version": "3.9.19"
  }
 },
 "nbformat": 4,
 "nbformat_minor": 5
}
